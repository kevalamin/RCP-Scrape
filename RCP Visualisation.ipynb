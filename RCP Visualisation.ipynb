{
 "cells": [
  {
   "cell_type": "code",
   "execution_count": 1,
   "metadata": {},
   "outputs": [],
   "source": [
    "# Line chart\n",
    "%matplotlib inline\n",
    "\n",
    "import seaborn as sns\n",
    "from ipywidgets import interactive\n",
    "import pandas as pd\n",
    "import numpy as np\n",
    "from IPython.display import clear_output\n",
    "import matplotlib.pyplot as plt\n",
    "\n",
    "newdf=pd.read_csv(\"RCP Altered Poll Data.csv\")\n",
    "newdf['Date']=pd.to_datetime(newdf['Date'])\n",
    "newdf.index=newdf['Date']\n",
    "del newdf['Date']"
   ]
  },
  {
   "cell_type": "code",
   "execution_count": null,
   "metadata": {},
   "outputs": [],
   "source": []
  },
  {
   "cell_type": "code",
   "execution_count": 2,
   "metadata": {},
   "outputs": [
    {
     "data": {
      "text/plain": [
       "pandas.core.indexes.datetimes.DatetimeIndex"
      ]
     },
     "execution_count": 2,
     "metadata": {},
     "output_type": "execute_result"
    }
   ],
   "source": [
    "type(newdf.index)"
   ]
  },
  {
   "cell_type": "code",
   "execution_count": 2,
   "metadata": {},
   "outputs": [
    {
     "data": {
      "application/vnd.jupyter.widget-view+json": {
       "model_id": "031d2142c84b4450b9873f9a1d6c4453",
       "version_major": 2,
       "version_minor": 0
      },
      "text/plain": [
       "SelectMultiple(description='Variables', index=(0,), options=('Biden', 'Sanders', 'Warren', 'Harris', 'Buttigie…"
      ]
     },
     "metadata": {},
     "output_type": "display_data"
    },
    {
     "data": {
      "application/vnd.jupyter.widget-view+json": {
       "model_id": "479d35d88552487c82c657d4aa81f224",
       "version_major": 2,
       "version_minor": 0
      },
      "text/plain": [
       "Output()"
      ]
     },
     "metadata": {},
     "output_type": "display_data"
    }
   ],
   "source": [
    "df = newdf\n",
    "#jtplot.style()\n",
    "\n",
    "import ipywidgets as widgets\n",
    "from IPython.display import display\n",
    "\n",
    "opts = df.columns.values\n",
    "\n",
    "selector = widgets.SelectMultiple(\n",
    "options=opts,\n",
    "value=[opts[0]],\n",
    "rows=len(opts),\n",
    "description='Variables',\n",
    "disabled=False)\n",
    "\n",
    "output = widgets.Output()\n",
    "\n",
    "display(selector)\n",
    "display(output)\n",
    "\n",
    "def multiplot(widg):\n",
    "    choices = widg['new']\n",
    "    data = df.loc[:, choices] if choices else df\n",
    "    output.clear_output(wait=True)\n",
    "    with output:\n",
    "        ax = data.plot(figsize=(15,10))\n",
    "        plt.show()\n",
    "\n",
    "selector.observe(multiplot, names='value') "
   ]
  },
  {
   "cell_type": "code",
   "execution_count": 4,
   "metadata": {},
   "outputs": [],
   "source": [
    "import ipywidgets as widgets\n",
    "import pandas as pd\n",
    "from datetime import datetime\n",
    "\n",
    "\n",
    "start_date=min(newdf.index)\n",
    "end_date=max(newdf.index)\n",
    "\n",
    "dates = pd.date_range(start_date, end_date, freq='D')\n",
    "\n",
    "options =dates# [(date.strftime(' %d %b %Y '), date) for date in dates]\n",
    "index = (0, len(options)-1)\n",
    "\n",
    "selection_range_slider = widgets.SelectionRangeSlider(\n",
    "    options=options,\n",
    "    index=index,\n",
    "    description='Dates',\n",
    "    orientation='horizontal',\n",
    "    layout={'width': '600px'},\n",
    "    continuous_update=False\n",
    ")\n",
    "\n",
    "def print_date_range(date_range):\n",
    "    pass\n"
   ]
  },
  {
   "cell_type": "code",
   "execution_count": 6,
   "metadata": {},
   "outputs": [
    {
     "data": {
      "application/vnd.jupyter.widget-view+json": {
       "model_id": "67631e3616a64d999dbad2e36935a506",
       "version_major": 2,
       "version_minor": 0
      },
      "text/plain": [
       "SelectionRangeSlider(continuous_update=False, description='Dates', index=(0, 292), layout=Layout(width='600px'…"
      ]
     },
     "metadata": {},
     "output_type": "display_data"
    },
    {
     "data": {
      "application/vnd.jupyter.widget-view+json": {
       "model_id": "5d34373fb6764fe5873969bff732e758",
       "version_major": 2,
       "version_minor": 0
      },
      "text/plain": [
       "SelectMultiple(description='Variables', index=(0,), layout=Layout(width='20%'), options=('Biden', 'Sanders', '…"
      ]
     },
     "metadata": {},
     "output_type": "display_data"
    },
    {
     "data": {
      "application/vnd.jupyter.widget-view+json": {
       "model_id": "c2de19d5a3b443d7bdf810d3924860e9",
       "version_major": 2,
       "version_minor": 0
      },
      "text/plain": [
       "Output()"
      ]
     },
     "metadata": {},
     "output_type": "display_data"
    }
   ],
   "source": [
    "# Interactive Correlation Heatmap chart\n",
    "%matplotlib inline\n",
    "\n",
    "from ipywidgets import interactive\n",
    "import pandas as pd\n",
    "import numpy as np\n",
    "from IPython.display import clear_output\n",
    "import matplotlib.pyplot as plt\n",
    "#data\n",
    "df = newdf\n",
    "#jtplot.style()\n",
    "\n",
    "import ipywidgets as widgets\n",
    "from IPython.display import display\n",
    "\n",
    "opts = df.columns.values\n",
    "\n",
    "selector = widgets.SelectMultiple(\n",
    "options=opts,value=[opts[0]],rows=len(opts),description='Variables',layout=widgets.Layout(width=\"20%\"),disabled=False)\n",
    "output = widgets.Output()\n",
    "display(selection_range_slider)\n",
    "display(selector)\n",
    "display(output)\n",
    "\n",
    "\n",
    "def multiplot(change):\n",
    "    \n",
    "    widg=list(selector.value)\n",
    "    choices = widg\n",
    "    data = df.loc[:, choices] if choices else df\n",
    "    clear_output(wait=True)\n",
    "    display(selection_range_slider)\n",
    "    display(selector)\n",
    "    display(output)\n",
    "    start_date=selection_range_slider.value[0]\n",
    "    end_date=selection_range_slider.value[1]\n",
    "\n",
    "    with output:\n",
    "        sns.set(rc={'figure.figsize':(12,6)})\n",
    "        sns.heatmap(data.diff(14).loc[start_date:end_date].corr(),annot=True)\n",
    "    \n",
    "selector.observe(multiplot,names='value')\n",
    "selection_range_slider.observe(multiplot,names='value')"
   ]
  },
  {
   "cell_type": "code",
   "execution_count": null,
   "metadata": {},
   "outputs": [],
   "source": []
  },
  {
   "cell_type": "code",
   "execution_count": null,
   "metadata": {},
   "outputs": [],
   "source": []
  },
  {
   "cell_type": "code",
   "execution_count": 7,
   "metadata": {},
   "outputs": [
    {
     "data": {
      "text/plain": [
       "0"
      ]
     },
     "execution_count": 7,
     "metadata": {},
     "output_type": "execute_result"
    }
   ],
   "source": [
    "len(\"\")"
   ]
  },
  {
   "cell_type": "code",
   "execution_count": null,
   "metadata": {},
   "outputs": [],
   "source": []
  }
 ],
 "metadata": {
  "kernelspec": {
   "display_name": "Python 3",
   "language": "python",
   "name": "python3"
  },
  "language_info": {
   "codemirror_mode": {
    "name": "ipython",
    "version": 3
   },
   "file_extension": ".py",
   "mimetype": "text/x-python",
   "name": "python",
   "nbconvert_exporter": "python",
   "pygments_lexer": "ipython3",
   "version": "3.7.3"
  }
 },
 "nbformat": 4,
 "nbformat_minor": 2
}
